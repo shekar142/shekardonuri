{
 "cells": [
  {
   "cell_type": "markdown",
   "id": "e9288c00",
   "metadata": {},
   "source": [
    "## 1. Data collection"
   ]
  },
  {
   "cell_type": "code",
   "execution_count": 93,
   "id": "edc21951",
   "metadata": {},
   "outputs": [],
   "source": [
    "import requests\n",
    "from bs4 import BeautifulSoup\n",
    "import numpy as np\n",
    "import pandas as pd\n",
    "import re\n",
    "import matplotlib.pyplot as plt\n",
    "import seaborn as sns"
   ]
  },
  {
   "cell_type": "code",
   "execution_count": 94,
   "id": "254e56a0",
   "metadata": {},
   "outputs": [],
   "source": [
    "price = []\n",
    "company = []\n",
    "model = []\n",
    "kms = []\n",
    "engine_type = []\n",
    "location = []\n",
    "year = []\n",
    "\n",
    "for i in range(1,50):\n",
    "    url = \"https://www.cartrade.com/buy-used-cars/#so=-1&sc=-1&city=\"+str(i)\n",
    "    page = requests.get(url)\n",
    "    soup = BeautifulSoup(page.text)\n",
    "\n",
    "    data = soup.find_all('div', class_=\"cr_prc\")\n",
    "    for i in data:\n",
    "        a = i.text\n",
    "        price.append(a.split()[0])\n",
    "    \n",
    "\n",
    "    data = soup.find_all('h2', class_=\"h2heading truncate\")\n",
    "    for i in data:\n",
    "        a = i.text\n",
    "        year.append(a.split()[0])\n",
    "        company.append(a.split()[1])\n",
    "        model.append(a.split()[2])\n",
    "\n",
    "    data = soup.find_all('div', class_=\"info_cr_new\")\n",
    "    for i in data:\n",
    "        a = i.text\n",
    "        kms.append(a.split(\"|\")[0])\n",
    "        engine_type.append(a.split(\"|\")[1])\n",
    "        location.append(a.split(\"|\")[2].split()[0])\n"
   ]
  },
  {
   "cell_type": "code",
   "execution_count": 95,
   "id": "409caa64",
   "metadata": {},
   "outputs": [],
   "source": [
    "d = {\"Company\":company,\n",
    "     \"Model\":model,\n",
    "     \"Kms\":kms,\n",
    "     \"Engine_type\":engine_type,\n",
    "     \"Year\":year,\n",
    "     \"Price\":price,\n",
    "     \"Location\":location}"
   ]
  },
  {
   "cell_type": "code",
   "execution_count": 96,
   "id": "8ac937cf",
   "metadata": {},
   "outputs": [],
   "source": [
    "df = pd.DataFrame(d)"
   ]
  },
  {
   "cell_type": "code",
   "execution_count": 97,
   "id": "0d2ec5b6",
   "metadata": {},
   "outputs": [
    {
     "data": {
      "text/html": [
       "<div>\n",
       "<style scoped>\n",
       "    .dataframe tbody tr th:only-of-type {\n",
       "        vertical-align: middle;\n",
       "    }\n",
       "\n",
       "    .dataframe tbody tr th {\n",
       "        vertical-align: top;\n",
       "    }\n",
       "\n",
       "    .dataframe thead th {\n",
       "        text-align: right;\n",
       "    }\n",
       "</style>\n",
       "<table border=\"1\" class=\"dataframe\">\n",
       "  <thead>\n",
       "    <tr style=\"text-align: right;\">\n",
       "      <th></th>\n",
       "      <th>Company</th>\n",
       "      <th>Model</th>\n",
       "      <th>Kms</th>\n",
       "      <th>Engine_type</th>\n",
       "      <th>Year</th>\n",
       "      <th>Price</th>\n",
       "      <th>Location</th>\n",
       "    </tr>\n",
       "  </thead>\n",
       "  <tbody>\n",
       "    <tr>\n",
       "      <th>0</th>\n",
       "      <td>Hyundai</td>\n",
       "      <td>Grand</td>\n",
       "      <td>46,690 KMs</td>\n",
       "      <td>Petrol</td>\n",
       "      <td>2017</td>\n",
       "      <td>₹4,41,000</td>\n",
       "      <td>Delhi</td>\n",
       "    </tr>\n",
       "    <tr>\n",
       "      <th>1</th>\n",
       "      <td>Mercedes-Benz</td>\n",
       "      <td>GLC</td>\n",
       "      <td>54,583 KMs</td>\n",
       "      <td>Diesel</td>\n",
       "      <td>2019</td>\n",
       "      <td>₹55,99,999</td>\n",
       "      <td>Hyderabad</td>\n",
       "    </tr>\n",
       "    <tr>\n",
       "      <th>2</th>\n",
       "      <td>Mercedes-Benz</td>\n",
       "      <td>GLA</td>\n",
       "      <td>77,000 KMs</td>\n",
       "      <td>Petrol</td>\n",
       "      <td>2017</td>\n",
       "      <td>₹21,00,000</td>\n",
       "      <td>Hyderabad</td>\n",
       "    </tr>\n",
       "    <tr>\n",
       "      <th>3</th>\n",
       "      <td>Hyundai</td>\n",
       "      <td>Grand</td>\n",
       "      <td>36,000 KMs</td>\n",
       "      <td>Petrol</td>\n",
       "      <td>2016</td>\n",
       "      <td>₹5,65,000</td>\n",
       "      <td>Mumbai</td>\n",
       "    </tr>\n",
       "    <tr>\n",
       "      <th>4</th>\n",
       "      <td>Honda</td>\n",
       "      <td>City</td>\n",
       "      <td>95,000 KMs</td>\n",
       "      <td>Petrol</td>\n",
       "      <td>2010</td>\n",
       "      <td>₹3,10,000</td>\n",
       "      <td>Mumbai</td>\n",
       "    </tr>\n",
       "    <tr>\n",
       "      <th>...</th>\n",
       "      <td>...</td>\n",
       "      <td>...</td>\n",
       "      <td>...</td>\n",
       "      <td>...</td>\n",
       "      <td>...</td>\n",
       "      <td>...</td>\n",
       "      <td>...</td>\n",
       "    </tr>\n",
       "    <tr>\n",
       "      <th>1560</th>\n",
       "      <td>MG</td>\n",
       "      <td>Hector</td>\n",
       "      <td>20,256 KMs</td>\n",
       "      <td>Petrol</td>\n",
       "      <td>2021</td>\n",
       "      <td>₹19,99,000</td>\n",
       "      <td>Bangalore</td>\n",
       "    </tr>\n",
       "    <tr>\n",
       "      <th>1561</th>\n",
       "      <td>Toyota</td>\n",
       "      <td>Innova</td>\n",
       "      <td>55,836 KMs</td>\n",
       "      <td>Diesel</td>\n",
       "      <td>2018</td>\n",
       "      <td>₹21,99,000</td>\n",
       "      <td>Bangalore</td>\n",
       "    </tr>\n",
       "    <tr>\n",
       "      <th>1562</th>\n",
       "      <td>Kia</td>\n",
       "      <td>Seltos</td>\n",
       "      <td>55,441 KMs</td>\n",
       "      <td>Petrol</td>\n",
       "      <td>2019</td>\n",
       "      <td>₹13,99,000</td>\n",
       "      <td>Bangalore</td>\n",
       "    </tr>\n",
       "    <tr>\n",
       "      <th>1563</th>\n",
       "      <td>Maruti</td>\n",
       "      <td>Suzuki</td>\n",
       "      <td>17,036 KMs</td>\n",
       "      <td>Petrol</td>\n",
       "      <td>2021</td>\n",
       "      <td>₹8,59,000</td>\n",
       "      <td>Bangalore</td>\n",
       "    </tr>\n",
       "    <tr>\n",
       "      <th>1564</th>\n",
       "      <td>Renault</td>\n",
       "      <td>Duster</td>\n",
       "      <td>28,566 KMs</td>\n",
       "      <td>Petrol</td>\n",
       "      <td>2021</td>\n",
       "      <td>₹10,99,000</td>\n",
       "      <td>Bangalore</td>\n",
       "    </tr>\n",
       "  </tbody>\n",
       "</table>\n",
       "<p>1565 rows × 7 columns</p>\n",
       "</div>"
      ],
      "text/plain": [
       "            Company   Model         Kms Engine_type  Year       Price  \\\n",
       "0           Hyundai   Grand  46,690 KMs      Petrol  2017   ₹4,41,000   \n",
       "1     Mercedes-Benz     GLC  54,583 KMs      Diesel  2019  ₹55,99,999   \n",
       "2     Mercedes-Benz     GLA  77,000 KMs      Petrol  2017  ₹21,00,000   \n",
       "3           Hyundai   Grand  36,000 KMs      Petrol  2016   ₹5,65,000   \n",
       "4             Honda    City  95,000 KMs      Petrol  2010   ₹3,10,000   \n",
       "...             ...     ...         ...         ...   ...         ...   \n",
       "1560             MG  Hector  20,256 KMs      Petrol  2021  ₹19,99,000   \n",
       "1561         Toyota  Innova  55,836 KMs      Diesel  2018  ₹21,99,000   \n",
       "1562            Kia  Seltos  55,441 KMs      Petrol  2019  ₹13,99,000   \n",
       "1563         Maruti  Suzuki  17,036 KMs      Petrol  2021   ₹8,59,000   \n",
       "1564        Renault  Duster  28,566 KMs      Petrol  2021  ₹10,99,000   \n",
       "\n",
       "       Location  \n",
       "0         Delhi  \n",
       "1     Hyderabad  \n",
       "2     Hyderabad  \n",
       "3        Mumbai  \n",
       "4        Mumbai  \n",
       "...         ...  \n",
       "1560  Bangalore  \n",
       "1561  Bangalore  \n",
       "1562  Bangalore  \n",
       "1563  Bangalore  \n",
       "1564  Bangalore  \n",
       "\n",
       "[1565 rows x 7 columns]"
      ]
     },
     "execution_count": 97,
     "metadata": {},
     "output_type": "execute_result"
    }
   ],
   "source": [
    "df"
   ]
  },
  {
   "cell_type": "code",
   "execution_count": 98,
   "id": "51120c0d",
   "metadata": {},
   "outputs": [
    {
     "data": {
      "text/html": [
       "<div>\n",
       "<style scoped>\n",
       "    .dataframe tbody tr th:only-of-type {\n",
       "        vertical-align: middle;\n",
       "    }\n",
       "\n",
       "    .dataframe tbody tr th {\n",
       "        vertical-align: top;\n",
       "    }\n",
       "\n",
       "    .dataframe thead th {\n",
       "        text-align: right;\n",
       "    }\n",
       "</style>\n",
       "<table border=\"1\" class=\"dataframe\">\n",
       "  <thead>\n",
       "    <tr style=\"text-align: right;\">\n",
       "      <th></th>\n",
       "      <th>Company</th>\n",
       "      <th>Model</th>\n",
       "      <th>Kms</th>\n",
       "      <th>Engine_type</th>\n",
       "      <th>Year</th>\n",
       "      <th>Price</th>\n",
       "      <th>Location</th>\n",
       "    </tr>\n",
       "  </thead>\n",
       "  <tbody>\n",
       "    <tr>\n",
       "      <th>0</th>\n",
       "      <td>Hyundai</td>\n",
       "      <td>Grand</td>\n",
       "      <td>46,690 KMs</td>\n",
       "      <td>Petrol</td>\n",
       "      <td>2017</td>\n",
       "      <td>₹4,41,000</td>\n",
       "      <td>Delhi</td>\n",
       "    </tr>\n",
       "    <tr>\n",
       "      <th>1</th>\n",
       "      <td>Mercedes-Benz</td>\n",
       "      <td>GLC</td>\n",
       "      <td>54,583 KMs</td>\n",
       "      <td>Diesel</td>\n",
       "      <td>2019</td>\n",
       "      <td>₹55,99,999</td>\n",
       "      <td>Hyderabad</td>\n",
       "    </tr>\n",
       "    <tr>\n",
       "      <th>2</th>\n",
       "      <td>Mercedes-Benz</td>\n",
       "      <td>GLA</td>\n",
       "      <td>77,000 KMs</td>\n",
       "      <td>Petrol</td>\n",
       "      <td>2017</td>\n",
       "      <td>₹21,00,000</td>\n",
       "      <td>Hyderabad</td>\n",
       "    </tr>\n",
       "    <tr>\n",
       "      <th>3</th>\n",
       "      <td>Hyundai</td>\n",
       "      <td>Grand</td>\n",
       "      <td>36,000 KMs</td>\n",
       "      <td>Petrol</td>\n",
       "      <td>2016</td>\n",
       "      <td>₹5,65,000</td>\n",
       "      <td>Mumbai</td>\n",
       "    </tr>\n",
       "    <tr>\n",
       "      <th>4</th>\n",
       "      <td>Honda</td>\n",
       "      <td>City</td>\n",
       "      <td>95,000 KMs</td>\n",
       "      <td>Petrol</td>\n",
       "      <td>2010</td>\n",
       "      <td>₹3,10,000</td>\n",
       "      <td>Mumbai</td>\n",
       "    </tr>\n",
       "  </tbody>\n",
       "</table>\n",
       "</div>"
      ],
      "text/plain": [
       "         Company  Model         Kms Engine_type  Year       Price   Location\n",
       "0        Hyundai  Grand  46,690 KMs      Petrol  2017   ₹4,41,000      Delhi\n",
       "1  Mercedes-Benz    GLC  54,583 KMs      Diesel  2019  ₹55,99,999  Hyderabad\n",
       "2  Mercedes-Benz    GLA  77,000 KMs      Petrol  2017  ₹21,00,000  Hyderabad\n",
       "3        Hyundai  Grand  36,000 KMs      Petrol  2016   ₹5,65,000     Mumbai\n",
       "4          Honda   City  95,000 KMs      Petrol  2010   ₹3,10,000     Mumbai"
      ]
     },
     "execution_count": 98,
     "metadata": {},
     "output_type": "execute_result"
    }
   ],
   "source": [
    "df.head(5)"
   ]
  },
  {
   "cell_type": "code",
   "execution_count": 99,
   "id": "1e733220",
   "metadata": {},
   "outputs": [
    {
     "data": {
      "text/html": [
       "<div>\n",
       "<style scoped>\n",
       "    .dataframe tbody tr th:only-of-type {\n",
       "        vertical-align: middle;\n",
       "    }\n",
       "\n",
       "    .dataframe tbody tr th {\n",
       "        vertical-align: top;\n",
       "    }\n",
       "\n",
       "    .dataframe thead th {\n",
       "        text-align: right;\n",
       "    }\n",
       "</style>\n",
       "<table border=\"1\" class=\"dataframe\">\n",
       "  <thead>\n",
       "    <tr style=\"text-align: right;\">\n",
       "      <th></th>\n",
       "      <th>Company</th>\n",
       "      <th>Model</th>\n",
       "      <th>Kms</th>\n",
       "      <th>Engine_type</th>\n",
       "      <th>Year</th>\n",
       "      <th>Price</th>\n",
       "      <th>Location</th>\n",
       "    </tr>\n",
       "  </thead>\n",
       "  <tbody>\n",
       "    <tr>\n",
       "      <th>1560</th>\n",
       "      <td>MG</td>\n",
       "      <td>Hector</td>\n",
       "      <td>20,256 KMs</td>\n",
       "      <td>Petrol</td>\n",
       "      <td>2021</td>\n",
       "      <td>₹19,99,000</td>\n",
       "      <td>Bangalore</td>\n",
       "    </tr>\n",
       "    <tr>\n",
       "      <th>1561</th>\n",
       "      <td>Toyota</td>\n",
       "      <td>Innova</td>\n",
       "      <td>55,836 KMs</td>\n",
       "      <td>Diesel</td>\n",
       "      <td>2018</td>\n",
       "      <td>₹21,99,000</td>\n",
       "      <td>Bangalore</td>\n",
       "    </tr>\n",
       "    <tr>\n",
       "      <th>1562</th>\n",
       "      <td>Kia</td>\n",
       "      <td>Seltos</td>\n",
       "      <td>55,441 KMs</td>\n",
       "      <td>Petrol</td>\n",
       "      <td>2019</td>\n",
       "      <td>₹13,99,000</td>\n",
       "      <td>Bangalore</td>\n",
       "    </tr>\n",
       "    <tr>\n",
       "      <th>1563</th>\n",
       "      <td>Maruti</td>\n",
       "      <td>Suzuki</td>\n",
       "      <td>17,036 KMs</td>\n",
       "      <td>Petrol</td>\n",
       "      <td>2021</td>\n",
       "      <td>₹8,59,000</td>\n",
       "      <td>Bangalore</td>\n",
       "    </tr>\n",
       "    <tr>\n",
       "      <th>1564</th>\n",
       "      <td>Renault</td>\n",
       "      <td>Duster</td>\n",
       "      <td>28,566 KMs</td>\n",
       "      <td>Petrol</td>\n",
       "      <td>2021</td>\n",
       "      <td>₹10,99,000</td>\n",
       "      <td>Bangalore</td>\n",
       "    </tr>\n",
       "  </tbody>\n",
       "</table>\n",
       "</div>"
      ],
      "text/plain": [
       "      Company   Model         Kms Engine_type  Year       Price   Location\n",
       "1560       MG  Hector  20,256 KMs      Petrol  2021  ₹19,99,000  Bangalore\n",
       "1561   Toyota  Innova  55,836 KMs      Diesel  2018  ₹21,99,000  Bangalore\n",
       "1562      Kia  Seltos  55,441 KMs      Petrol  2019  ₹13,99,000  Bangalore\n",
       "1563   Maruti  Suzuki  17,036 KMs      Petrol  2021   ₹8,59,000  Bangalore\n",
       "1564  Renault  Duster  28,566 KMs      Petrol  2021  ₹10,99,000  Bangalore"
      ]
     },
     "execution_count": 99,
     "metadata": {},
     "output_type": "execute_result"
    }
   ],
   "source": [
    "df.tail(5)"
   ]
  },
  {
   "cell_type": "code",
   "execution_count": 100,
   "id": "a09a0d74",
   "metadata": {},
   "outputs": [],
   "source": [
    "df.to_csv(\"used cars data_csv\")"
   ]
  },
  {
   "cell_type": "markdown",
   "id": "9bd5be24",
   "metadata": {},
   "source": [
    "## 2. Data cleaning"
   ]
  },
  {
   "cell_type": "code",
   "execution_count": 101,
   "id": "a1745a73",
   "metadata": {},
   "outputs": [
    {
     "name": "stdout",
     "output_type": "stream",
     "text": [
      "<class 'pandas.core.frame.DataFrame'>\n",
      "RangeIndex: 1565 entries, 0 to 1564\n",
      "Data columns (total 7 columns):\n",
      " #   Column       Non-Null Count  Dtype \n",
      "---  ------       --------------  ----- \n",
      " 0   Company      1565 non-null   object\n",
      " 1   Model        1565 non-null   object\n",
      " 2   Kms          1565 non-null   object\n",
      " 3   Engine_type  1565 non-null   object\n",
      " 4   Year         1565 non-null   object\n",
      " 5   Price        1565 non-null   object\n",
      " 6   Location     1565 non-null   object\n",
      "dtypes: object(7)\n",
      "memory usage: 85.7+ KB\n"
     ]
    }
   ],
   "source": [
    "df.info()"
   ]
  },
  {
   "cell_type": "code",
   "execution_count": 102,
   "id": "62be255a",
   "metadata": {},
   "outputs": [
    {
     "data": {
      "text/html": [
       "<div>\n",
       "<style scoped>\n",
       "    .dataframe tbody tr th:only-of-type {\n",
       "        vertical-align: middle;\n",
       "    }\n",
       "\n",
       "    .dataframe tbody tr th {\n",
       "        vertical-align: top;\n",
       "    }\n",
       "\n",
       "    .dataframe thead th {\n",
       "        text-align: right;\n",
       "    }\n",
       "</style>\n",
       "<table border=\"1\" class=\"dataframe\">\n",
       "  <thead>\n",
       "    <tr style=\"text-align: right;\">\n",
       "      <th></th>\n",
       "      <th>count</th>\n",
       "      <th>unique</th>\n",
       "      <th>top</th>\n",
       "      <th>freq</th>\n",
       "    </tr>\n",
       "  </thead>\n",
       "  <tbody>\n",
       "    <tr>\n",
       "      <th>Company</th>\n",
       "      <td>1565</td>\n",
       "      <td>27</td>\n",
       "      <td>Maruti</td>\n",
       "      <td>362</td>\n",
       "    </tr>\n",
       "    <tr>\n",
       "      <th>Model</th>\n",
       "      <td>1565</td>\n",
       "      <td>100</td>\n",
       "      <td>Suzuki</td>\n",
       "      <td>362</td>\n",
       "    </tr>\n",
       "    <tr>\n",
       "      <th>Kms</th>\n",
       "      <td>1565</td>\n",
       "      <td>255</td>\n",
       "      <td>55,441 KMs</td>\n",
       "      <td>49</td>\n",
       "    </tr>\n",
       "    <tr>\n",
       "      <th>Engine_type</th>\n",
       "      <td>1565</td>\n",
       "      <td>6</td>\n",
       "      <td>Petrol</td>\n",
       "      <td>1232</td>\n",
       "    </tr>\n",
       "    <tr>\n",
       "      <th>Year</th>\n",
       "      <td>1565</td>\n",
       "      <td>16</td>\n",
       "      <td>2021</td>\n",
       "      <td>333</td>\n",
       "    </tr>\n",
       "    <tr>\n",
       "      <th>Price</th>\n",
       "      <td>1565</td>\n",
       "      <td>227</td>\n",
       "      <td>₹5,49,000</td>\n",
       "      <td>148</td>\n",
       "    </tr>\n",
       "    <tr>\n",
       "      <th>Location</th>\n",
       "      <td>1565</td>\n",
       "      <td>41</td>\n",
       "      <td>Bangalore</td>\n",
       "      <td>666</td>\n",
       "    </tr>\n",
       "  </tbody>\n",
       "</table>\n",
       "</div>"
      ],
      "text/plain": [
       "            count unique         top  freq\n",
       "Company      1565     27      Maruti   362\n",
       "Model        1565    100      Suzuki   362\n",
       "Kms          1565    255  55,441 KMs    49\n",
       "Engine_type  1565      6      Petrol  1232\n",
       "Year         1565     16        2021   333\n",
       "Price        1565    227   ₹5,49,000   148\n",
       "Location     1565     41   Bangalore   666"
      ]
     },
     "execution_count": 102,
     "metadata": {},
     "output_type": "execute_result"
    }
   ],
   "source": [
    "df.describe().T"
   ]
  },
  {
   "cell_type": "code",
   "execution_count": 103,
   "id": "bf8dcc72",
   "metadata": {},
   "outputs": [],
   "source": [
    "df[\"Kms\"] = [re.sub(r\"[^\\d+]\",\"\",i) for i in df['Kms'] ]\n",
    "df['Kms'] = df['Kms'].astype(\"int\")\n",
    "df[\"Year\"] = df['Year'].astype(\"int\")\n",
    "df[\"Price\"] = [re.sub(r\"[^\\d+]\",\"\",i) for i in df['Price'] ]\n",
    "df[\"Price\"] = df['Price'].astype(\"int\")"
   ]
  },
  {
   "cell_type": "code",
   "execution_count": 104,
   "id": "d7d6d00c",
   "metadata": {},
   "outputs": [
    {
     "data": {
      "text/html": [
       "<div>\n",
       "<style scoped>\n",
       "    .dataframe tbody tr th:only-of-type {\n",
       "        vertical-align: middle;\n",
       "    }\n",
       "\n",
       "    .dataframe tbody tr th {\n",
       "        vertical-align: top;\n",
       "    }\n",
       "\n",
       "    .dataframe thead th {\n",
       "        text-align: right;\n",
       "    }\n",
       "</style>\n",
       "<table border=\"1\" class=\"dataframe\">\n",
       "  <thead>\n",
       "    <tr style=\"text-align: right;\">\n",
       "      <th></th>\n",
       "      <th>Company</th>\n",
       "      <th>Model</th>\n",
       "      <th>Kms</th>\n",
       "      <th>Engine_type</th>\n",
       "      <th>Year</th>\n",
       "      <th>Price</th>\n",
       "      <th>Location</th>\n",
       "    </tr>\n",
       "  </thead>\n",
       "  <tbody>\n",
       "    <tr>\n",
       "      <th>0</th>\n",
       "      <td>Hyundai</td>\n",
       "      <td>Grand</td>\n",
       "      <td>46690</td>\n",
       "      <td>Petrol</td>\n",
       "      <td>2017</td>\n",
       "      <td>441000</td>\n",
       "      <td>Delhi</td>\n",
       "    </tr>\n",
       "    <tr>\n",
       "      <th>1</th>\n",
       "      <td>Mercedes-Benz</td>\n",
       "      <td>GLC</td>\n",
       "      <td>54583</td>\n",
       "      <td>Diesel</td>\n",
       "      <td>2019</td>\n",
       "      <td>5599999</td>\n",
       "      <td>Hyderabad</td>\n",
       "    </tr>\n",
       "    <tr>\n",
       "      <th>2</th>\n",
       "      <td>Mercedes-Benz</td>\n",
       "      <td>GLA</td>\n",
       "      <td>77000</td>\n",
       "      <td>Petrol</td>\n",
       "      <td>2017</td>\n",
       "      <td>2100000</td>\n",
       "      <td>Hyderabad</td>\n",
       "    </tr>\n",
       "    <tr>\n",
       "      <th>3</th>\n",
       "      <td>Hyundai</td>\n",
       "      <td>Grand</td>\n",
       "      <td>36000</td>\n",
       "      <td>Petrol</td>\n",
       "      <td>2016</td>\n",
       "      <td>565000</td>\n",
       "      <td>Mumbai</td>\n",
       "    </tr>\n",
       "    <tr>\n",
       "      <th>4</th>\n",
       "      <td>Honda</td>\n",
       "      <td>City</td>\n",
       "      <td>95000</td>\n",
       "      <td>Petrol</td>\n",
       "      <td>2010</td>\n",
       "      <td>310000</td>\n",
       "      <td>Mumbai</td>\n",
       "    </tr>\n",
       "    <tr>\n",
       "      <th>...</th>\n",
       "      <td>...</td>\n",
       "      <td>...</td>\n",
       "      <td>...</td>\n",
       "      <td>...</td>\n",
       "      <td>...</td>\n",
       "      <td>...</td>\n",
       "      <td>...</td>\n",
       "    </tr>\n",
       "    <tr>\n",
       "      <th>1560</th>\n",
       "      <td>MG</td>\n",
       "      <td>Hector</td>\n",
       "      <td>20256</td>\n",
       "      <td>Petrol</td>\n",
       "      <td>2021</td>\n",
       "      <td>1999000</td>\n",
       "      <td>Bangalore</td>\n",
       "    </tr>\n",
       "    <tr>\n",
       "      <th>1561</th>\n",
       "      <td>Toyota</td>\n",
       "      <td>Innova</td>\n",
       "      <td>55836</td>\n",
       "      <td>Diesel</td>\n",
       "      <td>2018</td>\n",
       "      <td>2199000</td>\n",
       "      <td>Bangalore</td>\n",
       "    </tr>\n",
       "    <tr>\n",
       "      <th>1562</th>\n",
       "      <td>Kia</td>\n",
       "      <td>Seltos</td>\n",
       "      <td>55441</td>\n",
       "      <td>Petrol</td>\n",
       "      <td>2019</td>\n",
       "      <td>1399000</td>\n",
       "      <td>Bangalore</td>\n",
       "    </tr>\n",
       "    <tr>\n",
       "      <th>1563</th>\n",
       "      <td>Maruti</td>\n",
       "      <td>Suzuki</td>\n",
       "      <td>17036</td>\n",
       "      <td>Petrol</td>\n",
       "      <td>2021</td>\n",
       "      <td>859000</td>\n",
       "      <td>Bangalore</td>\n",
       "    </tr>\n",
       "    <tr>\n",
       "      <th>1564</th>\n",
       "      <td>Renault</td>\n",
       "      <td>Duster</td>\n",
       "      <td>28566</td>\n",
       "      <td>Petrol</td>\n",
       "      <td>2021</td>\n",
       "      <td>1099000</td>\n",
       "      <td>Bangalore</td>\n",
       "    </tr>\n",
       "  </tbody>\n",
       "</table>\n",
       "<p>1565 rows × 7 columns</p>\n",
       "</div>"
      ],
      "text/plain": [
       "            Company   Model    Kms Engine_type  Year    Price   Location\n",
       "0           Hyundai   Grand  46690      Petrol  2017   441000      Delhi\n",
       "1     Mercedes-Benz     GLC  54583      Diesel  2019  5599999  Hyderabad\n",
       "2     Mercedes-Benz     GLA  77000      Petrol  2017  2100000  Hyderabad\n",
       "3           Hyundai   Grand  36000      Petrol  2016   565000     Mumbai\n",
       "4             Honda    City  95000      Petrol  2010   310000     Mumbai\n",
       "...             ...     ...    ...         ...   ...      ...        ...\n",
       "1560             MG  Hector  20256      Petrol  2021  1999000  Bangalore\n",
       "1561         Toyota  Innova  55836      Diesel  2018  2199000  Bangalore\n",
       "1562            Kia  Seltos  55441      Petrol  2019  1399000  Bangalore\n",
       "1563         Maruti  Suzuki  17036      Petrol  2021   859000  Bangalore\n",
       "1564        Renault  Duster  28566      Petrol  2021  1099000  Bangalore\n",
       "\n",
       "[1565 rows x 7 columns]"
      ]
     },
     "execution_count": 104,
     "metadata": {},
     "output_type": "execute_result"
    }
   ],
   "source": [
    "df"
   ]
  },
  {
   "cell_type": "code",
   "execution_count": 105,
   "id": "fcc1169a",
   "metadata": {},
   "outputs": [
    {
     "name": "stdout",
     "output_type": "stream",
     "text": [
      "<class 'pandas.core.frame.DataFrame'>\n",
      "RangeIndex: 1565 entries, 0 to 1564\n",
      "Data columns (total 7 columns):\n",
      " #   Column       Non-Null Count  Dtype \n",
      "---  ------       --------------  ----- \n",
      " 0   Company      1565 non-null   object\n",
      " 1   Model        1565 non-null   object\n",
      " 2   Kms          1565 non-null   int32 \n",
      " 3   Engine_type  1565 non-null   object\n",
      " 4   Year         1565 non-null   int32 \n",
      " 5   Price        1565 non-null   int32 \n",
      " 6   Location     1565 non-null   object\n",
      "dtypes: int32(3), object(4)\n",
      "memory usage: 67.4+ KB\n"
     ]
    }
   ],
   "source": [
    "df.info()"
   ]
  },
  {
   "cell_type": "code",
   "execution_count": 106,
   "id": "a0351719",
   "metadata": {},
   "outputs": [
    {
     "data": {
      "text/plain": [
       "Company        0\n",
       "Model          0\n",
       "Kms            0\n",
       "Engine_type    0\n",
       "Year           0\n",
       "Price          0\n",
       "Location       0\n",
       "dtype: int64"
      ]
     },
     "execution_count": 106,
     "metadata": {},
     "output_type": "execute_result"
    }
   ],
   "source": [
    "df.isnull().sum()"
   ]
  },
  {
   "cell_type": "code",
   "execution_count": 107,
   "id": "bc659574",
   "metadata": {},
   "outputs": [
    {
     "data": {
      "text/plain": [
       "0       False\n",
       "1       False\n",
       "2       False\n",
       "3       False\n",
       "4       False\n",
       "        ...  \n",
       "1560     True\n",
       "1561     True\n",
       "1562     True\n",
       "1563     True\n",
       "1564     True\n",
       "Length: 1565, dtype: bool"
      ]
     },
     "execution_count": 107,
     "metadata": {},
     "output_type": "execute_result"
    }
   ],
   "source": [
    "df.duplicated(subset = ['Company', 'Model', 'Kms', 'Engine_type', 'Year', 'Price', 'Location'], keep = 'first')"
   ]
  },
  {
   "cell_type": "code",
   "execution_count": 108,
   "id": "41a633cf",
   "metadata": {},
   "outputs": [
    {
     "data": {
      "text/html": [
       "<div>\n",
       "<style scoped>\n",
       "    .dataframe tbody tr th:only-of-type {\n",
       "        vertical-align: middle;\n",
       "    }\n",
       "\n",
       "    .dataframe tbody tr th {\n",
       "        vertical-align: top;\n",
       "    }\n",
       "\n",
       "    .dataframe thead th {\n",
       "        text-align: right;\n",
       "    }\n",
       "</style>\n",
       "<table border=\"1\" class=\"dataframe\">\n",
       "  <thead>\n",
       "    <tr style=\"text-align: right;\">\n",
       "      <th></th>\n",
       "      <th>Company</th>\n",
       "      <th>Model</th>\n",
       "      <th>Kms</th>\n",
       "      <th>Engine_type</th>\n",
       "      <th>Year</th>\n",
       "      <th>Price</th>\n",
       "      <th>Location</th>\n",
       "    </tr>\n",
       "  </thead>\n",
       "  <tbody>\n",
       "    <tr>\n",
       "      <th>0</th>\n",
       "      <td>Hyundai</td>\n",
       "      <td>Grand</td>\n",
       "      <td>46690</td>\n",
       "      <td>Petrol</td>\n",
       "      <td>2017</td>\n",
       "      <td>441000</td>\n",
       "      <td>Delhi</td>\n",
       "    </tr>\n",
       "    <tr>\n",
       "      <th>1</th>\n",
       "      <td>Mercedes-Benz</td>\n",
       "      <td>GLC</td>\n",
       "      <td>54583</td>\n",
       "      <td>Diesel</td>\n",
       "      <td>2019</td>\n",
       "      <td>5599999</td>\n",
       "      <td>Hyderabad</td>\n",
       "    </tr>\n",
       "    <tr>\n",
       "      <th>2</th>\n",
       "      <td>Mercedes-Benz</td>\n",
       "      <td>GLA</td>\n",
       "      <td>77000</td>\n",
       "      <td>Petrol</td>\n",
       "      <td>2017</td>\n",
       "      <td>2100000</td>\n",
       "      <td>Hyderabad</td>\n",
       "    </tr>\n",
       "    <tr>\n",
       "      <th>3</th>\n",
       "      <td>Hyundai</td>\n",
       "      <td>Grand</td>\n",
       "      <td>36000</td>\n",
       "      <td>Petrol</td>\n",
       "      <td>2016</td>\n",
       "      <td>565000</td>\n",
       "      <td>Mumbai</td>\n",
       "    </tr>\n",
       "    <tr>\n",
       "      <th>4</th>\n",
       "      <td>Honda</td>\n",
       "      <td>City</td>\n",
       "      <td>95000</td>\n",
       "      <td>Petrol</td>\n",
       "      <td>2010</td>\n",
       "      <td>310000</td>\n",
       "      <td>Mumbai</td>\n",
       "    </tr>\n",
       "    <tr>\n",
       "      <th>...</th>\n",
       "      <td>...</td>\n",
       "      <td>...</td>\n",
       "      <td>...</td>\n",
       "      <td>...</td>\n",
       "      <td>...</td>\n",
       "      <td>...</td>\n",
       "      <td>...</td>\n",
       "    </tr>\n",
       "    <tr>\n",
       "      <th>1501</th>\n",
       "      <td>Maruti</td>\n",
       "      <td>Suzuki</td>\n",
       "      <td>30091</td>\n",
       "      <td>CNG + 1</td>\n",
       "      <td>2020</td>\n",
       "      <td>549000</td>\n",
       "      <td>Delhi</td>\n",
       "    </tr>\n",
       "    <tr>\n",
       "      <th>1502</th>\n",
       "      <td>Honda</td>\n",
       "      <td>WR-V</td>\n",
       "      <td>26100</td>\n",
       "      <td>Petrol</td>\n",
       "      <td>2018</td>\n",
       "      <td>775000</td>\n",
       "      <td>Delhi</td>\n",
       "    </tr>\n",
       "    <tr>\n",
       "      <th>1504</th>\n",
       "      <td>Jaguar</td>\n",
       "      <td>XF</td>\n",
       "      <td>49367</td>\n",
       "      <td>Diesel</td>\n",
       "      <td>2018</td>\n",
       "      <td>3999999</td>\n",
       "      <td>Hyderabad</td>\n",
       "    </tr>\n",
       "    <tr>\n",
       "      <th>1537</th>\n",
       "      <td>Kia</td>\n",
       "      <td>Seltos</td>\n",
       "      <td>57592</td>\n",
       "      <td>Petrol</td>\n",
       "      <td>2019</td>\n",
       "      <td>1490000</td>\n",
       "      <td>Chennai</td>\n",
       "    </tr>\n",
       "    <tr>\n",
       "      <th>1540</th>\n",
       "      <td>Jeep</td>\n",
       "      <td>Compass</td>\n",
       "      <td>39000</td>\n",
       "      <td>Petrol</td>\n",
       "      <td>2018</td>\n",
       "      <td>1225000</td>\n",
       "      <td>Delhi</td>\n",
       "    </tr>\n",
       "  </tbody>\n",
       "</table>\n",
       "<p>283 rows × 7 columns</p>\n",
       "</div>"
      ],
      "text/plain": [
       "            Company    Model    Kms Engine_type  Year    Price   Location\n",
       "0           Hyundai    Grand  46690      Petrol  2017   441000      Delhi\n",
       "1     Mercedes-Benz      GLC  54583      Diesel  2019  5599999  Hyderabad\n",
       "2     Mercedes-Benz      GLA  77000      Petrol  2017  2100000  Hyderabad\n",
       "3           Hyundai    Grand  36000      Petrol  2016   565000     Mumbai\n",
       "4             Honda     City  95000      Petrol  2010   310000     Mumbai\n",
       "...             ...      ...    ...         ...   ...      ...        ...\n",
       "1501         Maruti   Suzuki  30091     CNG + 1  2020   549000      Delhi\n",
       "1502          Honda     WR-V  26100      Petrol  2018   775000      Delhi\n",
       "1504         Jaguar       XF  49367      Diesel  2018  3999999  Hyderabad\n",
       "1537            Kia   Seltos  57592      Petrol  2019  1490000    Chennai\n",
       "1540           Jeep  Compass  39000      Petrol  2018  1225000      Delhi\n",
       "\n",
       "[283 rows x 7 columns]"
      ]
     },
     "execution_count": 108,
     "metadata": {},
     "output_type": "execute_result"
    }
   ],
   "source": [
    "df.drop_duplicates(subset=None, keep='first', inplace=False)"
   ]
  },
  {
   "cell_type": "code",
   "execution_count": 109,
   "id": "535f05f8",
   "metadata": {},
   "outputs": [],
   "source": [
    "duplicate_bool = df.duplicated(subset=['Company', 'Model', 'Kms', 'Engine_type', 'Year', 'Price', 'Location'], keep='first')\n",
    "df = df.loc[duplicate_bool == True]"
   ]
  },
  {
   "cell_type": "code",
   "execution_count": 110,
   "id": "daeec864",
   "metadata": {
    "scrolled": true
   },
   "outputs": [
    {
     "data": {
      "text/html": [
       "<div>\n",
       "<style scoped>\n",
       "    .dataframe tbody tr th:only-of-type {\n",
       "        vertical-align: middle;\n",
       "    }\n",
       "\n",
       "    .dataframe tbody tr th {\n",
       "        vertical-align: top;\n",
       "    }\n",
       "\n",
       "    .dataframe thead th {\n",
       "        text-align: right;\n",
       "    }\n",
       "</style>\n",
       "<table border=\"1\" class=\"dataframe\">\n",
       "  <thead>\n",
       "    <tr style=\"text-align: right;\">\n",
       "      <th></th>\n",
       "      <th>Company</th>\n",
       "      <th>Model</th>\n",
       "      <th>Kms</th>\n",
       "      <th>Engine_type</th>\n",
       "      <th>Year</th>\n",
       "      <th>Price</th>\n",
       "      <th>Location</th>\n",
       "    </tr>\n",
       "  </thead>\n",
       "  <tbody>\n",
       "    <tr>\n",
       "      <th>40</th>\n",
       "      <td>Renault</td>\n",
       "      <td>Kwid</td>\n",
       "      <td>13994</td>\n",
       "      <td>Petrol</td>\n",
       "      <td>2022</td>\n",
       "      <td>549000</td>\n",
       "      <td>Mangalore</td>\n",
       "    </tr>\n",
       "    <tr>\n",
       "      <th>41</th>\n",
       "      <td>Maruti</td>\n",
       "      <td>Suzuki</td>\n",
       "      <td>13705</td>\n",
       "      <td>Petrol</td>\n",
       "      <td>2020</td>\n",
       "      <td>529000</td>\n",
       "      <td>Mangalore</td>\n",
       "    </tr>\n",
       "    <tr>\n",
       "      <th>42</th>\n",
       "      <td>Maruti</td>\n",
       "      <td>Suzuki</td>\n",
       "      <td>39012</td>\n",
       "      <td>Petrol</td>\n",
       "      <td>2018</td>\n",
       "      <td>565000</td>\n",
       "      <td>Mangalore</td>\n",
       "    </tr>\n",
       "    <tr>\n",
       "      <th>43</th>\n",
       "      <td>Hyundai</td>\n",
       "      <td>Grand</td>\n",
       "      <td>32639</td>\n",
       "      <td>Petrol</td>\n",
       "      <td>2020</td>\n",
       "      <td>699000</td>\n",
       "      <td>Mangalore</td>\n",
       "    </tr>\n",
       "    <tr>\n",
       "      <th>44</th>\n",
       "      <td>Renault</td>\n",
       "      <td>Kiger</td>\n",
       "      <td>37167</td>\n",
       "      <td>Petrol</td>\n",
       "      <td>2021</td>\n",
       "      <td>929000</td>\n",
       "      <td>Bangalore</td>\n",
       "    </tr>\n",
       "    <tr>\n",
       "      <th>...</th>\n",
       "      <td>...</td>\n",
       "      <td>...</td>\n",
       "      <td>...</td>\n",
       "      <td>...</td>\n",
       "      <td>...</td>\n",
       "      <td>...</td>\n",
       "      <td>...</td>\n",
       "    </tr>\n",
       "    <tr>\n",
       "      <th>1560</th>\n",
       "      <td>MG</td>\n",
       "      <td>Hector</td>\n",
       "      <td>20256</td>\n",
       "      <td>Petrol</td>\n",
       "      <td>2021</td>\n",
       "      <td>1999000</td>\n",
       "      <td>Bangalore</td>\n",
       "    </tr>\n",
       "    <tr>\n",
       "      <th>1561</th>\n",
       "      <td>Toyota</td>\n",
       "      <td>Innova</td>\n",
       "      <td>55836</td>\n",
       "      <td>Diesel</td>\n",
       "      <td>2018</td>\n",
       "      <td>2199000</td>\n",
       "      <td>Bangalore</td>\n",
       "    </tr>\n",
       "    <tr>\n",
       "      <th>1562</th>\n",
       "      <td>Kia</td>\n",
       "      <td>Seltos</td>\n",
       "      <td>55441</td>\n",
       "      <td>Petrol</td>\n",
       "      <td>2019</td>\n",
       "      <td>1399000</td>\n",
       "      <td>Bangalore</td>\n",
       "    </tr>\n",
       "    <tr>\n",
       "      <th>1563</th>\n",
       "      <td>Maruti</td>\n",
       "      <td>Suzuki</td>\n",
       "      <td>17036</td>\n",
       "      <td>Petrol</td>\n",
       "      <td>2021</td>\n",
       "      <td>859000</td>\n",
       "      <td>Bangalore</td>\n",
       "    </tr>\n",
       "    <tr>\n",
       "      <th>1564</th>\n",
       "      <td>Renault</td>\n",
       "      <td>Duster</td>\n",
       "      <td>28566</td>\n",
       "      <td>Petrol</td>\n",
       "      <td>2021</td>\n",
       "      <td>1099000</td>\n",
       "      <td>Bangalore</td>\n",
       "    </tr>\n",
       "  </tbody>\n",
       "</table>\n",
       "<p>1282 rows × 7 columns</p>\n",
       "</div>"
      ],
      "text/plain": [
       "      Company   Model    Kms Engine_type  Year    Price   Location\n",
       "40    Renault    Kwid  13994      Petrol  2022   549000  Mangalore\n",
       "41     Maruti  Suzuki  13705      Petrol  2020   529000  Mangalore\n",
       "42     Maruti  Suzuki  39012      Petrol  2018   565000  Mangalore\n",
       "43    Hyundai   Grand  32639      Petrol  2020   699000  Mangalore\n",
       "44    Renault   Kiger  37167      Petrol  2021   929000  Bangalore\n",
       "...       ...     ...    ...         ...   ...      ...        ...\n",
       "1560       MG  Hector  20256      Petrol  2021  1999000  Bangalore\n",
       "1561   Toyota  Innova  55836      Diesel  2018  2199000  Bangalore\n",
       "1562      Kia  Seltos  55441      Petrol  2019  1399000  Bangalore\n",
       "1563   Maruti  Suzuki  17036      Petrol  2021   859000  Bangalore\n",
       "1564  Renault  Duster  28566      Petrol  2021  1099000  Bangalore\n",
       "\n",
       "[1282 rows x 7 columns]"
      ]
     },
     "execution_count": 110,
     "metadata": {},
     "output_type": "execute_result"
    }
   ],
   "source": [
    "df"
   ]
  },
  {
   "cell_type": "code",
   "execution_count": 111,
   "id": "1273d957",
   "metadata": {},
   "outputs": [
    {
     "data": {
      "text/plain": [
       "(1282, 7)"
      ]
     },
     "execution_count": 111,
     "metadata": {},
     "output_type": "execute_result"
    }
   ],
   "source": [
    "df.shape"
   ]
  },
  {
   "cell_type": "markdown",
   "id": "3442a381",
   "metadata": {},
   "source": [
    "## 3. Data visualisation"
   ]
  },
  {
   "cell_type": "code",
   "execution_count": 112,
   "id": "e8d6c5e8",
   "metadata": {},
   "outputs": [
    {
     "name": "stderr",
     "output_type": "stream",
     "text": [
      "C:\\Users\\Donuri shekar\\anaconda3\\lib\\site-packages\\seaborn\\distributions.py:2557: FutureWarning: `distplot` is a deprecated function and will be removed in a future version. Please adapt your code to use either `displot` (a figure-level function with similar flexibility) or `histplot` (an axes-level function for histograms).\n",
      "  warnings.warn(msg, FutureWarning)\n"
     ]
    },
    {
     "data": {
      "image/png": "[encoded data removed]",
      "text/plain": [
       "<Figure size 1080x576 with 1 Axes>"
      ]
     },
     "metadata": {
      "needs_background": "light"
     },
     "output_type": "display_data"
    }
   ],
   "source": [
    "plt.figure(figsize = (15,8))\n",
    "sns.distplot(df['Price'], kde=True)\n",
    "plt.title(\"Price\")\n",
    "plt.show()"
   ]
  },
  {
   "cell_type": "code",
   "execution_count": 113,
   "id": "d04678cb",
   "metadata": {},
   "outputs": [
    {
     "data": {
      "text/plain": [
       "<AxesSubplot:xlabel='Price', ylabel='Count'>"
      ]
     },
     "execution_count": 113,
     "metadata": {},
     "output_type": "execute_result"
    },
    {
     "data": {
      "image/png": "[encoded data removed]",
      "text/plain": [
       "<Figure size 1080x576 with 1 Axes>"
      ]
     },
     "metadata": {
      "needs_background": "light"
     },
     "output_type": "display_data"
    }
   ],
   "source": [
    "plt.figure(figsize = (15,8))\n",
    "sns.histplot(data = df, x=  df['Price'], kde = True)"
   ]
  },
  {
   "cell_type": "code",
   "execution_count": 114,
   "id": "49d6fbfd",
   "metadata": {},
   "outputs": [
    {
     "data": {
      "text/html": [
       "<div>\n",
       "<style scoped>\n",
       "    .dataframe tbody tr th:only-of-type {\n",
       "        vertical-align: middle;\n",
       "    }\n",
       "\n",
       "    .dataframe tbody tr th {\n",
       "        vertical-align: top;\n",
       "    }\n",
       "\n",
       "    .dataframe thead th {\n",
       "        text-align: right;\n",
       "    }\n",
       "</style>\n",
       "<table border=\"1\" class=\"dataframe\">\n",
       "  <thead>\n",
       "    <tr style=\"text-align: right;\">\n",
       "      <th></th>\n",
       "      <th>Company</th>\n",
       "      <th>Model</th>\n",
       "      <th>Kms</th>\n",
       "      <th>Engine_type</th>\n",
       "      <th>Year</th>\n",
       "      <th>Price</th>\n",
       "      <th>Location</th>\n",
       "    </tr>\n",
       "  </thead>\n",
       "  <tbody>\n",
       "    <tr>\n",
       "      <th>1092</th>\n",
       "      <td>Mercedes-Benz</td>\n",
       "      <td>S-Class</td>\n",
       "      <td>5000</td>\n",
       "      <td>Diesel</td>\n",
       "      <td>2022</td>\n",
       "      <td>15300000</td>\n",
       "      <td>Delhi</td>\n",
       "    </tr>\n",
       "    <tr>\n",
       "      <th>1533</th>\n",
       "      <td>Mercedes-Benz</td>\n",
       "      <td>GLS</td>\n",
       "      <td>14753</td>\n",
       "      <td>Diesel</td>\n",
       "      <td>2022</td>\n",
       "      <td>14799999</td>\n",
       "      <td>Hyderabad</td>\n",
       "    </tr>\n",
       "    <tr>\n",
       "      <th>1187</th>\n",
       "      <td>Mercedes-Benz</td>\n",
       "      <td>GLB</td>\n",
       "      <td>2400</td>\n",
       "      <td>Diesel</td>\n",
       "      <td>2022</td>\n",
       "      <td>7800000</td>\n",
       "      <td>Hyderabad</td>\n",
       "    </tr>\n",
       "    <tr>\n",
       "      <th>676</th>\n",
       "      <td>BMW</td>\n",
       "      <td>X5</td>\n",
       "      <td>52784</td>\n",
       "      <td>Diesel</td>\n",
       "      <td>2017</td>\n",
       "      <td>5775000</td>\n",
       "      <td>Bangalore</td>\n",
       "    </tr>\n",
       "    <tr>\n",
       "      <th>1277</th>\n",
       "      <td>Audi</td>\n",
       "      <td>Q5</td>\n",
       "      <td>33173</td>\n",
       "      <td>Diesel</td>\n",
       "      <td>2019</td>\n",
       "      <td>5400000</td>\n",
       "      <td>Bangalore</td>\n",
       "    </tr>\n",
       "    <tr>\n",
       "      <th>320</th>\n",
       "      <td>BMW</td>\n",
       "      <td>5</td>\n",
       "      <td>39500</td>\n",
       "      <td>Diesel</td>\n",
       "      <td>2020</td>\n",
       "      <td>5175000</td>\n",
       "      <td>Chandigarh</td>\n",
       "    </tr>\n",
       "    <tr>\n",
       "      <th>1309</th>\n",
       "      <td>BMW</td>\n",
       "      <td>5</td>\n",
       "      <td>39500</td>\n",
       "      <td>Diesel</td>\n",
       "      <td>2020</td>\n",
       "      <td>5175000</td>\n",
       "      <td>Chandigarh</td>\n",
       "    </tr>\n",
       "    <tr>\n",
       "      <th>53</th>\n",
       "      <td>Land</td>\n",
       "      <td>Rover</td>\n",
       "      <td>39426</td>\n",
       "      <td>Diesel</td>\n",
       "      <td>2018</td>\n",
       "      <td>5150000</td>\n",
       "      <td>Bangalore</td>\n",
       "    </tr>\n",
       "    <tr>\n",
       "      <th>85</th>\n",
       "      <td>Land</td>\n",
       "      <td>Rover</td>\n",
       "      <td>39426</td>\n",
       "      <td>Diesel</td>\n",
       "      <td>2018</td>\n",
       "      <td>5150000</td>\n",
       "      <td>Bangalore</td>\n",
       "    </tr>\n",
       "    <tr>\n",
       "      <th>117</th>\n",
       "      <td>Land</td>\n",
       "      <td>Rover</td>\n",
       "      <td>39426</td>\n",
       "      <td>Diesel</td>\n",
       "      <td>2018</td>\n",
       "      <td>5150000</td>\n",
       "      <td>Bangalore</td>\n",
       "    </tr>\n",
       "  </tbody>\n",
       "</table>\n",
       "</div>"
      ],
      "text/plain": [
       "            Company    Model    Kms Engine_type  Year     Price    Location\n",
       "1092  Mercedes-Benz  S-Class   5000      Diesel  2022  15300000       Delhi\n",
       "1533  Mercedes-Benz      GLS  14753      Diesel  2022  14799999   Hyderabad\n",
       "1187  Mercedes-Benz      GLB   2400      Diesel  2022   7800000   Hyderabad\n",
       "676             BMW       X5  52784      Diesel  2017   5775000   Bangalore\n",
       "1277           Audi       Q5  33173      Diesel  2019   5400000   Bangalore\n",
       "320             BMW        5  39500      Diesel  2020   5175000  Chandigarh\n",
       "1309            BMW        5  39500      Diesel  2020   5175000  Chandigarh\n",
       "53             Land    Rover  39426      Diesel  2018   5150000   Bangalore\n",
       "85             Land    Rover  39426      Diesel  2018   5150000   Bangalore\n",
       "117            Land    Rover  39426      Diesel  2018   5150000   Bangalore"
      ]
     },
     "execution_count": 114,
     "metadata": {},
     "output_type": "execute_result"
    }
   ],
   "source": [
    "df1 = df.sort_values(by = ['Price','Location'],ascending = False).head(10)\n",
    "df1"
   ]
  },
  {
   "cell_type": "markdown",
   "id": "d83c31b7",
   "metadata": {},
   "source": [
    "- Top 10 prices vs location"
   ]
  },
  {
   "cell_type": "code",
   "execution_count": 128,
   "id": "cbc104cb",
   "metadata": {
    "scrolled": true
   },
   "outputs": [
    {
     "data": {
      "image/png": "[encoded data removed]",
      "text/plain": [
       "<Figure size 1080x576 with 1 Axes>"
      ]
     },
     "metadata": {
      "needs_background": "light"
     },
     "output_type": "display_data"
    }
   ],
   "source": [
    "plt.figure(figsize = (15,8))\n",
    "sns.barplot(x=\"Location\", y=\"Price\", data=df1)\n",
    "plt.title(\"prices vs location\")\n",
    "plt.xticks(rotation=90)\n",
    "plt.show()"
   ]
  },
  {
   "cell_type": "markdown",
   "id": "4f43f3a3",
   "metadata": {},
   "source": [
    "- Top 10 companies vs price"
   ]
  },
  {
   "cell_type": "code",
   "execution_count": 127,
   "id": "b6c3bb63",
   "metadata": {},
   "outputs": [
    {
     "data": {
      "image/png": "[encoded data removed]",
      "text/plain": [
       "<Figure size 1080x576 with 1 Axes>"
      ]
     },
     "metadata": {
      "needs_background": "light"
     },
     "output_type": "display_data"
    }
   ],
   "source": [
    "plt.figure(figsize = (15,8))\n",
    "sns.barplot(x = 'Company',\n",
    "            y = 'Price',\n",
    "            data = df1)\n",
    "plt.xticks(rotation = 90)\n",
    "plt.title('company vs price')\n",
    "plt.show()"
   ]
  },
  {
   "cell_type": "markdown",
   "id": "9df207b8",
   "metadata": {},
   "source": [
    "- Year wise price variaton in cars"
   ]
  },
  {
   "cell_type": "code",
   "execution_count": 119,
   "id": "c9c8e074",
   "metadata": {},
   "outputs": [
    {
     "name": "stderr",
     "output_type": "stream",
     "text": [
      "No handles with labels found to put in legend.\n"
     ]
    },
    {
     "data": {
      "image/png": "[encoded data removed]",
      "text/plain": [
       "<Figure size 1080x576 with 1 Axes>"
      ]
     },
     "metadata": {
      "needs_background": "light"
     },
     "output_type": "display_data"
    }
   ],
   "source": [
    "plt.figure(figsize = (15,8))\n",
    "sns.lineplot(x = 'Year',\n",
    "            y = 'Price',\n",
    "            data = df)\n",
    "plt.xticks(rotation = 90)\n",
    "plt.legend()\n",
    "plt.title('Year vs price')\n",
    "plt.show()"
   ]
  },
  {
   "cell_type": "markdown",
   "id": "ae9b0178",
   "metadata": {},
   "source": [
    "- companies with count of cars"
   ]
  },
  {
   "cell_type": "code",
   "execution_count": 120,
   "id": "01e3e4d6",
   "metadata": {},
   "outputs": [
    {
     "data": {
      "image/png": "[encoded data removed]",
      "text/plain": [
       "<Figure size 1080x576 with 1 Axes>"
      ]
     },
     "metadata": {
      "needs_background": "light"
     },
     "output_type": "display_data"
    }
   ],
   "source": [
    "plt.figure(figsize = (15,8))\n",
    "sns.histplot(x = 'Company', data = df)\n",
    "plt.xticks(rotation = 90)\n",
    "plt.title(\"companies\")\n",
    "plt.show()"
   ]
  },
  {
   "cell_type": "code",
   "execution_count": 121,
   "id": "2eb49c44",
   "metadata": {},
   "outputs": [
    {
     "data": {
      "text/plain": [
       "Petrol        1081\n",
       "Diesel         189\n",
       "CNG              8\n",
       "Petrol + 1       4\n",
       "Name: Engine_type, dtype: int64"
      ]
     },
     "execution_count": 121,
     "metadata": {},
     "output_type": "execute_result"
    }
   ],
   "source": [
    "df[\"Engine_type\"].value_counts()"
   ]
  },
  {
   "cell_type": "markdown",
   "id": "ef1c4f9b",
   "metadata": {},
   "source": [
    "- percentage of engine_type in cars"
   ]
  },
  {
   "cell_type": "code",
   "execution_count": 122,
   "id": "42234763",
   "metadata": {},
   "outputs": [
    {
     "data": {
      "image/png": "[encoded data removed]",
      "text/plain": [
       "<Figure size 1080x720 with 1 Axes>"
      ]
     },
     "metadata": {},
     "output_type": "display_data"
    }
   ],
   "source": [
    "plt.figure(figsize=(15,10))\n",
    "plt.pie(df[\"Engine_type\"].value_counts(), \n",
    "        labels = df[\"Engine_type\"].unique(), \n",
    "        autopct='%0.0f%%')\n",
    "plt.show()"
   ]
  },
  {
   "cell_type": "markdown",
   "id": "d74f3e06",
   "metadata": {},
   "source": [
    "- outliers in price of cars"
   ]
  },
  {
   "cell_type": "code",
   "execution_count": 123,
   "id": "bddeac75",
   "metadata": {},
   "outputs": [],
   "source": [
    "import seaborn as sns\n",
    "import matplotlib.pyplot as plt"
   ]
  },
  {
   "cell_type": "code",
   "execution_count": 124,
   "id": "764ebfc9",
   "metadata": {
    "scrolled": false
   },
   "outputs": [
    {
     "data": {
      "image/png": "[encoded data removed]",
      "text/plain": [
       "<Figure size 720x720 with 1 Axes>"
      ]
     },
     "metadata": {
      "needs_background": "light"
     },
     "output_type": "display_data"
    }
   ],
   "source": [
    "plt.figure(figsize = (10,10))\n",
    "df['Price'].plot(kind='box')\n",
    "plt.show()"
   ]
  },
  {
   "cell_type": "markdown",
   "id": "26c984c4",
   "metadata": {},
   "source": [
    "- heatmap"
   ]
  },
  {
   "cell_type": "code",
   "execution_count": 125,
   "id": "31cfaa55",
   "metadata": {},
   "outputs": [
    {
     "data": {
      "text/plain": [
       "<AxesSubplot:>"
      ]
     },
     "execution_count": 125,
     "metadata": {},
     "output_type": "execute_result"
    },
    {
     "data": {
      "image/png": "[encoded data removed]",
      "text/plain": [
       "<Figure size 1080x576 with 2 Axes>"
      ]
     },
     "metadata": {
      "needs_background": "light"
     },
     "output_type": "display_data"
    }
   ],
   "source": [
    "plt.figure(figsize = (15,8))\n",
    "sns.heatmap(df.corr(),annot=True)"
   ]
  },
  {
   "cell_type": "code",
   "execution_count": null,
   "id": "753ddfe9",
   "metadata": {},
   "outputs": [],
   "source": []
  },
  {
   "cell_type": "code",
   "execution_count": null,
   "id": "94c53c6f",
   "metadata": {},
   "outputs": [],
   "source": []
  },
  {
   "cell_type": "code",
   "execution_count": null,
   "id": "1b75891f",
   "metadata": {},
   "outputs": [],
   "source": []
  },
  {
   "cell_type": "code",
   "execution_count": null,
   "id": "af576923",
   "metadata": {},
   "outputs": [],
   "source": []
  },
  {
   "cell_type": "code",
   "execution_count": null,
   "id": "3ebfade4",
   "metadata": {},
   "outputs": [],
   "source": []
  },
  {
   "cell_type": "code",
   "execution_count": null,
   "id": "83318845",
   "metadata": {},
   "outputs": [],
   "source": []
  },
  {
   "cell_type": "code",
   "execution_count": null,
   "id": "e00c5549",
   "metadata": {},
   "outputs": [],
   "source": []
  },
  {
   "cell_type": "code",
   "execution_count": null,
   "id": "05ddd6e5",
   "metadata": {},
   "outputs": [],
   "source": []
  },
  {
   "cell_type": "code",
   "execution_count": null,
   "id": "195a95f2",
   "metadata": {},
   "outputs": [],
   "source": []
  },
  {
   "cell_type": "code",
   "execution_count": null,
   "id": "238106c4",
   "metadata": {},
   "outputs": [],
   "source": []
  },
  {
   "cell_type": "code",
   "execution_count": null,
   "id": "44279b91",
   "metadata": {},
   "outputs": [],
   "source": []
  },
  {
   "cell_type": "code",
   "execution_count": null,
   "id": "2accc798",
   "metadata": {},
   "outputs": [],
   "source": []
  },
  {
   "cell_type": "code",
   "execution_count": null,
   "id": "63339288",
   "metadata": {},
   "outputs": [],
   "source": []
  },
  {
   "cell_type": "code",
   "execution_count": null,
   "id": "3f894bc2",
   "metadata": {},
   "outputs": [],
   "source": []
  },
  {
   "cell_type": "code",
   "execution_count": null,
   "id": "76d70399",
   "metadata": {},
   "outputs": [],
   "source": []
  },
  {
   "cell_type": "code",
   "execution_count": null,
   "id": "080129de",
   "metadata": {},
   "outputs": [],
   "source": []
  },
  {
   "cell_type": "code",
   "execution_count": null,
   "id": "6b2088c8",
   "metadata": {},
   "outputs": [],
   "source": []
  },
  {
   "cell_type": "code",
   "execution_count": null,
   "id": "46d0ffaa",
   "metadata": {},
   "outputs": [],
   "source": []
  },
  {
   "cell_type": "code",
   "execution_count": null,
   "id": "18afa2b9",
   "metadata": {},
   "outputs": [],
   "source": []
  },
  {
   "cell_type": "code",
   "execution_count": null,
   "id": "cfc13d4a",
   "metadata": {},
   "outputs": [],
   "source": []
  },
  {
   "cell_type": "code",
   "execution_count": null,
   "id": "9894988d",
   "metadata": {},
   "outputs": [],
   "source": []
  },
  {
   "cell_type": "code",
   "execution_count": null,
   "id": "c18101b7",
   "metadata": {},
   "outputs": [],
   "source": []
  },
  {
   "cell_type": "code",
   "execution_count": null,
   "id": "3ade10b4",
   "metadata": {},
   "outputs": [],
   "source": []
  },
  {
   "cell_type": "code",
   "execution_count": null,
   "id": "bd068b65",
   "metadata": {},
   "outputs": [],
   "source": []
  },
  {
   "cell_type": "code",
   "execution_count": null,
   "id": "e3fe7b17",
   "metadata": {},
   "outputs": [],
   "source": []
  },
  {
   "cell_type": "code",
   "execution_count": null,
   "id": "061c601a",
   "metadata": {},
   "outputs": [],
   "source": []
  },
  {
   "cell_type": "code",
   "execution_count": null,
   "id": "31edac5f",
   "metadata": {},
   "outputs": [],
   "source": []
  },
  {
   "cell_type": "code",
   "execution_count": null,
   "id": "6579256e",
   "metadata": {},
   "outputs": [],
   "source": []
  },
  {
   "cell_type": "code",
   "execution_count": null,
   "id": "6606b692",
   "metadata": {},
   "outputs": [],
   "source": []
  },
  {
   "cell_type": "code",
   "execution_count": null,
   "id": "abd21bbe",
   "metadata": {},
   "outputs": [],
   "source": []
  },
  {
   "cell_type": "code",
   "execution_count": null,
   "id": "db9b5992",
   "metadata": {},
   "outputs": [],
   "source": []
  },
  {
   "cell_type": "code",
   "execution_count": null,
   "id": "f7c878e4",
   "metadata": {},
   "outputs": [],
   "source": []
  },
  {
   "cell_type": "code",
   "execution_count": null,
   "id": "67878822",
   "metadata": {},
   "outputs": [],
   "source": []
  },
  {
   "cell_type": "code",
   "execution_count": null,
   "id": "4bf3e588",
   "metadata": {},
   "outputs": [],
   "source": []
  },
  {
   "cell_type": "code",
   "execution_count": null,
   "id": "41846d6c",
   "metadata": {},
   "outputs": [],
   "source": []
  },
  {
   "cell_type": "code",
   "execution_count": null,
   "id": "5b1254c0",
   "metadata": {},
   "outputs": [],
   "source": []
  },
  {
   "cell_type": "code",
   "execution_count": null,
   "id": "60b0bc71",
   "metadata": {},
   "outputs": [],
   "source": []
  },
  {
   "cell_type": "code",
   "execution_count": null,
   "id": "f92ae573",
   "metadata": {},
   "outputs": [],
   "source": []
  },
  {
   "cell_type": "code",
   "execution_count": null,
   "id": "035eea1a",
   "metadata": {},
   "outputs": [],
   "source": []
  },
  {
   "cell_type": "code",
   "execution_count": null,
   "id": "c9fc7fec",
   "metadata": {},
   "outputs": [],
   "source": []
  },
  {
   "cell_type": "code",
   "execution_count": null,
   "id": "6c998e6f",
   "metadata": {},
   "outputs": [],
   "source": []
  },
  {
   "cell_type": "code",
   "execution_count": null,
   "id": "f4bf3d16",
   "metadata": {},
   "outputs": [],
   "source": []
  },
  {
   "cell_type": "code",
   "execution_count": null,
   "id": "73f22b4f",
   "metadata": {},
   "outputs": [],
   "source": []
  },
  {
   "cell_type": "code",
   "execution_count": null,
   "id": "1ccb0544",
   "metadata": {},
   "outputs": [],
   "source": []
  },
  {
   "cell_type": "code",
   "execution_count": null,
   "id": "61bfe7b4",
   "metadata": {},
   "outputs": [],
   "source": []
  },
  {
   "cell_type": "code",
   "execution_count": null,
   "id": "67992660",
   "metadata": {},
   "outputs": [],
   "source": []
  },
  {
   "cell_type": "code",
   "execution_count": null,
   "id": "5e544946",
   "metadata": {},
   "outputs": [],
   "source": []
  },
  {
   "cell_type": "code",
   "execution_count": null,
   "id": "a3274025",
   "metadata": {},
   "outputs": [],
   "source": []
  },
  {
   "cell_type": "code",
   "execution_count": null,
   "id": "b126fce7",
   "metadata": {},
   "outputs": [],
   "source": []
  },
  {
   "cell_type": "code",
   "execution_count": null,
   "id": "a8fafb55",
   "metadata": {},
   "outputs": [],
   "source": []
  },
  {
   "cell_type": "code",
   "execution_count": null,
   "id": "7efff8d7",
   "metadata": {},
   "outputs": [],
   "source": []
  },
  {
   "cell_type": "code",
   "execution_count": null,
   "id": "f4ce4b3b",
   "metadata": {},
   "outputs": [],
   "source": []
  },
  {
   "cell_type": "code",
   "execution_count": null,
   "id": "1f8d1aa5",
   "metadata": {},
   "outputs": [],
   "source": []
  },
  {
   "cell_type": "code",
   "execution_count": null,
   "id": "b79fd15f",
   "metadata": {},
   "outputs": [],
   "source": []
  },
  {
   "cell_type": "code",
   "execution_count": null,
   "id": "2d560560",
   "metadata": {},
   "outputs": [],
   "source": []
  },
  {
   "cell_type": "code",
   "execution_count": null,
   "id": "e09a3681",
   "metadata": {},
   "outputs": [],
   "source": []
  },
  {
   "cell_type": "code",
   "execution_count": null,
   "id": "2b5d82f2",
   "metadata": {},
   "outputs": [],
   "source": []
  },
  {
   "cell_type": "code",
   "execution_count": null,
   "id": "228fcd68",
   "metadata": {},
   "outputs": [],
   "source": []
  },
  {
   "cell_type": "code",
   "execution_count": null,
   "id": "733fd42f",
   "metadata": {},
   "outputs": [],
   "source": []
  }
 ],
 "metadata": {
  "kernelspec": {
   "display_name": "Python 3",
   "language": "python",
   "name": "python3"
  },
  "language_info": {
   "codemirror_mode": {
    "name": "ipython",
    "version": 3
   },
   "file_extension": ".py",
   "mimetype": "text/x-python",
   "name": "python",
   "nbconvert_exporter": "python",
   "pygments_lexer": "ipython3",
   "version": "3.8.8"
  }
 },
 "nbformat": 4,
 "nbformat_minor": 5
}
