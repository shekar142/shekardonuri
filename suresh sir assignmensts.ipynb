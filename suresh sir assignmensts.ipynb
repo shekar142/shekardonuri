{
 "cells": [
  {
   "cell_type": "code",
   "execution_count": 19,
   "id": "1f3e44d5",
   "metadata": {},
   "outputs": [],
   "source": [
    "# Find the difference between the lists.\n",
    "list1 = [5,12,5,6,2,6,7,8] \n",
    "list2 = [6,4,3,8,1,2,4,6]"
   ]
  },
  {
   "cell_type": "code",
   "execution_count": 20,
   "id": "8fedac8e",
   "metadata": {},
   "outputs": [
    {
     "name": "stdout",
     "output_type": "stream",
     "text": [
      "[1, 8, 2, 2, 1, 4, 3, 2]\n"
     ]
    }
   ],
   "source": [
    "difference =[]\n",
    "for i in range(len(list1)):\n",
    "    if list1[i]<=list2[i]:\n",
    "        difference.append(list2[i]-list1[i])\n",
    "    else:\n",
    "        difference.append(list1[i]-list2[i])\n",
    "print(difference)\n"
   ]
  },
  {
   "cell_type": "code",
   "execution_count": 22,
   "id": "7b823e16",
   "metadata": {
    "scrolled": true
   },
   "outputs": [
    {
     "name": "stdout",
     "output_type": "stream",
     "text": [
      "23\n"
     ]
    }
   ],
   "source": [
    "a = [1,8,2,2,1,4,3,2]\n",
    "total = sum(a)\n",
    "print(total)"
   ]
  },
  {
   "cell_type": "markdown",
   "id": "e0b798ad",
   "metadata": {},
   "source": [
    "### Create a Function which can take any number of numerical arguments, calculate Arithmetic Mean, Geometric mean and harmonic mean\n",
    " "
   ]
  },
  {
   "cell_type": "code",
   "execution_count": 35,
   "id": "2917a0e4",
   "metadata": {},
   "outputs": [],
   "source": [
    "import math\n",
    "def func1(*args):\n",
    "    n = len(args)\n",
    "    arithmetic_mean = sum(args) / n\n",
    "    multiply = 1\n",
    "    for i in args:\n",
    "        multiply*=i\n",
    "    geometric_mean = multiply**(1/n)\n",
    "    harmonic_mean = n/(1/sum(args))\n",
    "    return (arithmetic_mean,geometric_mean,harmonic_mean) "
   ]
  },
  {
   "cell_type": "code",
   "execution_count": 36,
   "id": "f5cfb787",
   "metadata": {},
   "outputs": [
    {
     "data": {
      "text/plain": [
       "(5.5, 4.528728688116765, 550.0)"
      ]
     },
     "execution_count": 36,
     "metadata": {},
     "output_type": "execute_result"
    }
   ],
   "source": [
    "func1(1,2,3,4,5,6,7,8,9,10)"
   ]
  },
  {
   "cell_type": "markdown",
   "id": "8bfd33e3",
   "metadata": {},
   "source": [
    "## create a function which takes three arguments,first argument should be dictionary,second argument should be integer,third argument should be another dictionary.Based on the integer value(consider this as index, which starts at 0),insert new dictionary values at index position in first dictionary, and return new dictionary.\n"
   ]
  },
  {
   "cell_type": "code",
   "execution_count": null,
   "id": "ef17632a",
   "metadata": {},
   "outputs": [],
   "source": [
    "\n"
   ]
  },
  {
   "cell_type": "code",
   "execution_count": null,
   "id": "2cf3d40c",
   "metadata": {},
   "outputs": [],
   "source": []
  },
  {
   "cell_type": "code",
   "execution_count": null,
   "id": "8f0aaa0e",
   "metadata": {},
   "outputs": [],
   "source": []
  },
  {
   "cell_type": "code",
   "execution_count": null,
   "id": "0fafd47a",
   "metadata": {},
   "outputs": [],
   "source": []
  },
  {
   "cell_type": "code",
   "execution_count": null,
   "id": "c64295d5",
   "metadata": {},
   "outputs": [],
   "source": []
  },
  {
   "cell_type": "code",
   "execution_count": null,
   "id": "30852c17",
   "metadata": {},
   "outputs": [],
   "source": []
  },
  {
   "cell_type": "code",
   "execution_count": null,
   "id": "65baf1da",
   "metadata": {},
   "outputs": [],
   "source": []
  },
  {
   "cell_type": "code",
   "execution_count": null,
   "id": "284ee7e4",
   "metadata": {},
   "outputs": [],
   "source": []
  }
 ],
 "metadata": {
  "kernelspec": {
   "display_name": "Python 3",
   "language": "python",
   "name": "python3"
  },
  "language_info": {
   "codemirror_mode": {
    "name": "ipython",
    "version": 3
   },
   "file_extension": ".py",
   "mimetype": "text/x-python",
   "name": "python",
   "nbconvert_exporter": "python",
   "pygments_lexer": "ipython3",
   "version": "3.8.8"
  }
 },
 "nbformat": 4,
 "nbformat_minor": 5
}
